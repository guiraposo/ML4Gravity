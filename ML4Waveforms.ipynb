{
  "nbformat": 4,
  "nbformat_minor": 0,
  "metadata": {
    "colab": {
      "provenance": [],
      "authorship_tag": "ABX9TyMLysC0x8tX09jQCuKApzch",
      "include_colab_link": true
    },
    "kernelspec": {
      "name": "python3",
      "display_name": "Python 3"
    },
    "language_info": {
      "name": "python"
    }
  },
  "cells": [
    {
      "cell_type": "markdown",
      "metadata": {
        "id": "view-in-github",
        "colab_type": "text"
      },
      "source": [
        "<a href=\"https://colab.research.google.com/github/guiraposo/ML4Gravity/blob/main/ML4Waveforms.ipynb\" target=\"_parent\"><img src=\"https://colab.research.google.com/assets/colab-badge.svg\" alt=\"Open In Colab\"/></a>"
      ]
    },
    {
      "cell_type": "markdown",
      "source": [
        "# Waveform generation and detetection\n",
        "\n",
        "Notebook based on the [MachineLearningForStrongGravity](https://github.com/raimonluna/) course given by Raimon Luna.\n",
        "\n",
        "<br>\n",
        "\n",
        "### In this notebook, we will see:\n",
        "\n",
        "1. How to reduce the dimensionality of data by finding an appropriate basis of vectors.\n",
        "2. How autoencoders \"compress\" the data by automatically identifying the governing parameters.\n",
        "3. How we can use GANs to generate samples from the same distribution as the training data.<br>Original paper:<br>\n",
        "\n",
        " - Felipe F. Freitas, Carlos A. R. Herdeiro, António P. Morais, António Onofre, Roman Pasechnik, Eugen Radu, Nicolas Sanchis-Gual, Rui Santos, <i>Generating gravitational waveform libraries of exotic compact binaries with deep learning</i>, 2022. https://arxiv.org/abs/2203.01267\n",
        "\n",
        "<br>"
      ],
      "metadata": {
        "id": "TBsxBUdz64o4"
      }
    },
    {
      "cell_type": "code",
      "execution_count": 6,
      "metadata": {
        "id": "3dd08143"
      },
      "outputs": [],
      "source": [
        "# Import relevant libraries and modules\n",
        "import torch\n",
        "import torch.nn as nn\n",
        "import torch.optim as optim\n",
        "from torch.utils.data import Dataset, DataLoader, random_split\n",
        "from sklearn.decomposition import PCA, TruncatedSVD\n",
        "import numpy as np\n",
        "\n",
        "import matplotlib.pyplot as plt\n",
        "from IPython import display"
      ]
    },
    {
      "cell_type": "markdown",
      "source": [
        "# Synthetic Waveforms:\n",
        "\n",
        "Let us start by generating a dataset with some toy waveforms. We choose a generator of the following type:\n",
        "\n",
        "$$\\psi = \\sin(2 \\pi k x)\\, e^{-8x^2}, $$\n",
        "\n",
        "representing a sinusoidal function with wave number $k$, modulated by a gaussian profile. For simplicity we shall consider only one parameter ($k$), but in other sections we shall try to extend this to additional parameters."
      ],
      "metadata": {
        "id": "foH2U_0s8KxP"
      }
    },
    {
      "cell_type": "code",
      "execution_count": 5,
      "metadata": {
        "id": "af372568"
      },
      "outputs": [],
      "source": [
        "x       = np.linspace(-1, 1, 64, dtype = np.float32)\n",
        "randoms = 5*np.random.rand(100)\n",
        "data    = torch.tensor(np.array([    np.sin(2 * k * np.pi * x) * np.exp(- 8 * x**2 ) for k in randoms]))\n",
        "\n",
        "data_train, data_test = data[:60, :], data[60:, :]"
      ]
    },
    {
      "cell_type": "code",
      "source": [],
      "metadata": {
        "id": "R0jlGVAX9x9u"
      },
      "execution_count": null,
      "outputs": []
    }
  ]
}